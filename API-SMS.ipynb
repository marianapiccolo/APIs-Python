{
 "cells": [
  {
   "cell_type": "markdown",
   "id": "fc3fb6de",
   "metadata": {},
   "source": [
    "Send SMS using an API with login.\n",
    "\n",
    "login on Twilio:\n",
    "https://www.twilio.com/docs/libraries/python\n",
    "\n",
    "Get 3 information:\n",
    "Account ID\n",
    "Token\n",
    "Shipping Number"
   ]
  },
  {
   "cell_type": "code",
   "execution_count": 5,
   "id": "1c7c24a0",
   "metadata": {},
   "outputs": [
    {
     "name": "stdout",
     "output_type": "stream",
     "text": [
      "SM6c6b2b153bd22461ba96e308651ee5e1\n"
     ]
    }
   ],
   "source": [
    "#!pip3 install twilio\n",
    "from twilio.rest import Client\n",
    "\n",
    "account_sid = 'AC79e59c4d59d1fd371b911f36b266167b'\n",
    "token = 'f421b3f5ecb9247da25132744f967f6d'\n",
    "\n",
    "client = Client(account_sid, token)\n",
    "\n",
    "sender = '+1463583151X'\n",
    "destination = '+5519123456789' \n",
    "\n",
    "message = client.messages.create(\n",
    "    to=destination, \n",
    "    from_=sender,\n",
    "    body=\"Hello!!!\")\n",
    "\n",
    "print(message.sid)"
   ]
  }
 ],
 "metadata": {
  "kernelspec": {
   "display_name": "Python 3 (ipykernel)",
   "language": "python",
   "name": "python3"
  },
  "language_info": {
   "codemirror_mode": {
    "name": "ipython",
    "version": 3
   },
   "file_extension": ".py",
   "mimetype": "text/x-python",
   "name": "python",
   "nbconvert_exporter": "python",
   "pygments_lexer": "ipython3",
   "version": "3.9.12"
  }
 },
 "nbformat": 4,
 "nbformat_minor": 5
}
